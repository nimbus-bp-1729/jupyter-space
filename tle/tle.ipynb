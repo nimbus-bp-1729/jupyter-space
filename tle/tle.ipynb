{
 "cells": [
  {
   "cell_type": "markdown",
   "metadata": {},
   "source": [
    "![](header.jpg)\n",
    "\n",
    "# Two Line Elements (TLE)\n",
    "\n",
    "Kevin J. Walchko, Phd\n",
    "\n",
    "---"
   ]
  },
  {
   "cell_type": "markdown",
   "metadata": {},
   "source": [
    "```\n",
    "ISS (ZARYA)\n",
    "1 25544U 98067A   08264.51782528 -.00002182  00000-0 -11606-4 0  2927\n",
    "2 25544  51.6416 247.4627 0006703 130.5360 325.0288 15.72125391563537\n",
    "```\n",
    "\n",
    "The file extension \".tle\" commonly designates a list of elements of orbiting satellites in\n",
    "the two-line format of NORAD.\n",
    "\n",
    "The positions and velocities of satellites are updated periodically by NORAD, and provided\n",
    "to  users  through their bulletin boards and anonymous ftp sites.  A variety of models may\n",
    "be applied to these element sets in order to predict the future position and velocity of a\n",
    "particular  satellite.   However,  it  is important to note that the NORAD output data are\n",
    "mean values, i.e., periodic perturbations have been removed.  Thus, any  predictive  model\n",
    "must  be  compatible  with  the  NORAD  models,  in  the sense that the same terms must be\n",
    "canceled.  There are several models which accomplish this goal.\n",
    "\n",
    "## Format\n",
    "\n",
    "![](tle.gif)\n",
    "\n",
    "Data for each satellite consists of three lines in the following format:\n",
    "\n",
    "**LINE 0**\n",
    "A line containing a single 22-character ASCII string giving the name of the satellite.\n",
    "\n",
    "**LINE 1**\n",
    "Column Description\n",
    "\n",
    "\n",
    "01-01  Line Number of Element Data, in this case, 1.\n",
    "\n",
    "03-07  Satellite Number.  Each time a satellite is launched NORAD assigns a number to that satellite.   Vanguard  1  is the earliest satellite whose elements can currently be found (all earlier birds must have reentered by now). It was  launched  on  3/17/58 and carries \"00005\" as a NORAD Catalog number.\n",
    "\n",
    "10-11  International  Designator--the  last  two  digits  of  the  year  the satellite was launched.  This number is for reference only and is not used by  tracking  programs for predictions. Thus it may be omitted in some element sets.\n",
    "\n",
    "12-14  International Designator--the number of the launch for that year.  This number does not give any indication as to when during the  year  the  bird  went  up  just  its ranking  among its fellow launches for that year. This number is for reference only  and is not used by tracking programs for predictions. Thus it  may  be  omitted  in some element sets.\n",
    "\n",
    "15-17  International  Designator--piece  of  launch.  On many launches there are more than one payload.  This number is for  reference  only  and  is  not  used  by  tracking programs for predictions. Thus it may be omitted in some element sets.\n",
    "\n",
    "19-20  Epoch Year--The last two digits of the year when the element set was measured.\n",
    "\n",
    "21-32  Epoch  Day--The  Julian  Day and fractional portion of the day when the element set was measured.\n",
    "\n",
    "34-43  First Time Derivative of the Mean Motion or Ballistic  Coefficient--depending  on ephemeris type.\n",
    "\n",
    "45-52  Second Time Derivative of Mean Motion (decimal point assumed; blank if N/A)\n",
    "\n",
    "54-61  BSTAR  drag term if GP4 general perturbation theory was used.  Otherwise, radiation pressure coefficient.  (Decimal point assumed.)   This  number  usually  refers  to atmospheric drag on a satellite. However, at times satellites are strongly affected by the gravitational pull of bodies other than the Earth (ie: Sun and Moon).  While it  seems  unlikely,  drag  can  actually  be  a negative number thus indicating an increase in orbital energy rather than a decrease. This happens when  the  Sun  and Moon  combine  to  pull the satellite's apogee to a higher altitude.  However, this condition of negative drag is only valid for as long as the gravitational situation warrants  it.  So,  some  folks like to zero out negative drag factors for smoother orbital calculations.\n",
    "\n",
    "63-63  Ephemeris type.  This code indicates the type of model used to generate the element set.  Allowed values and their corresponding models are:\n",
    "\n",
    "1. SGP\n",
    "2. SGP4\n",
    "3. SDP4\n",
    "4. SGP8\n",
    "5. SDP8\n",
    "\n",
    "The  models  designated  \"SG*\" are used for near-earth satellites (i.e., those with periods less than 225 minutes), and the models designated \"SD*\" are used for  deep-space  satellites  (those  with  periods  equal  to  or  greater than 225 minutes). Atmospheric drag is more important for near-earth satellites, while  tidal  effects from the sun and moon are more important for the deep-space satellites.\n",
    "\n",
    "65-68  Element  number  (modulo 1000).  Each time a satellite's orbit is determined and an element set created the element set is assigned a number.\n",
    "\n",
    "69-69  Checksum (Modulo 10).  Letters, blanks, periods, plus signs = 0;  minus  signs  =1. The  last  number  in  each  of  the 2 lines of an element set is a checksum.  This number is calculated by assigning the following values to  each  character  on  the line. A number carries it's own value, a minus (-) sign carries a value of one (1), and letters, blanks and periods (decimal points (.)) carry a value of zero (0).\n",
    "\n",
    "**LINE 2**\n",
    "\n",
    "01-01  Line Number of Element Data, in this case, 2.\n",
    "\n",
    "03-07  Satellite Number.\n",
    "\n",
    "09-16  Inclination (in degrees), i.e., the angle formed by the orbit to the  equator.  The inclination must be a positive number of degrees between 0 and 180. A zero angle of inclination indicates a satellite moving  from  west  to  east  directly  over  the equator.  An  inclination of 28 degrees (most shuttle launches) would form an angle of 28 degrees between the equator and  the  orbit  of  the  satellite.  Also,  that satellite  will  travel  only  as far north and south as +- 28 degrees latitude. On it's ascending orbital crossing (moving from south to north) of  the  equator,  the satellite  will be moving from southwest to northeast. An inclination of 90 degrees would mean that the satellite is moving directly from south to north and will cross directly  over the north and south poles. Any satellite with an inclination greater than 90 degrees is said to be in retrograde orbit.  This  means  the  satellite  is  moving  in  a  direction  opposite  the  rotation of the earth. A satellite with an inclination of 152 degrees will be moving from southeast to northwest as  it  cross the  equator  from south to north. This is opposite the rotation of the Earth. This satellite will move as far north and south of the equator as  28  degrees  latitude  and  be in an orbital direction exactly opposite a satellite with an inclination of 28 degrees.\n",
    "\n",
    "18-25  Right ascension of ascending node (RAAN or RA  of  Node).   In  order  to  fix  the position  of  an  orbit  in  space  it is necessary to refer to a coordinate system outside the earth  coordinate  system.  Because  the  Earth  rotates  latitude  and longitude  coordinates do not indicate an absolute frame of reference. Therefore it was decided to use astronomical conventions to fix orbits relative to the celestial sphere  which  is  delineated  in degrees of Right Ascension and declination. Right ascension is similar to longitude and Declination is similar to latitude.  When  an element  set  is  taken  Right  Ascension  of the ascending Node is computed in the following manner. As a satellite moves about the center of the earth it crosses the equator  twice.  It  is  either  in  ascending  node, moving from south to north or descending node moving from north to south. The RAAN is taken  from  the  point  at which  the  orbit  crosses  the  equator moving from south to north. If you were to\n",
    "       stand at the center of the planet and look  directly  at  the  location  where  the\n",
    "       satellite  crossed the equator you would be pointing to the ascending node. To give\n",
    "       this line a value the angle is measured between  this  line  and  0  degrees  right\n",
    "       ascension  (RA). Again standing at the center of the earth 0 degrees RA will always\n",
    "       point to the same location on the celestial sphere.\n",
    "\n",
    "27-33  Eccentricity.  In general, satellites execute elliptical orbits  about  the  Earth.\n",
    "       The  center  of  the  ellipse  is  at  one  of  the  two  foci of the ellipse.  The\n",
    "       eccentricity of the orbit is the ratio of the distance  between  the  foci  to  the\n",
    "       major axis of the ellipse, i.e., the longest line between any two points.  Thus the\n",
    "       ellipticity is 0 for a perfectly circular orbit and approaches 1.0 for orbits which\n",
    "       are highly elongated.\n",
    "\n",
    "35-42  Argument  of  Perigee  (degrees).   The  orbital  position corresponding to closest\n",
    "       approach of a satellite to the Earth is called perigee.  The argument of perigee is\n",
    "       the  angle measured from the center of the Earth between the ascending node and the\n",
    "       perigee along the plane of the orbit (inclination). If the Argument of  perigee  is\n",
    "       zero  (0) then the lowest point of the orbit of that satellite would be at the same\n",
    "       location as the point where it crossed the equator in it's ascending node.  If  the\n",
    "       argument  of  perigee  is  180  then  the lowest point of the orbit would be on the\n",
    "       equator on the opposite side of the earth from the ascending node.\n",
    "\n",
    "44-51  Mean Anomaly (degrees).  The mean anomaly fixes the position of  the  satellite  in\n",
    "       the  orbit  as  described  above.  So  far  we have only talked about the shape and\n",
    "       location of the orbit of the satellite. We haven't placed the satellite along  that\n",
    "       path and given it an exact location. That's what Mean Anomaly does. Mean Anomaly is\n",
    "       measured from the point of perigee. In the Argument of perigee example above it was\n",
    "       stated  that  an Arg of Perigee of zero would place perigee at the same location as\n",
    "       the Ascending node. If in this case the MA were  also  zero  then  the  satellite's\n",
    "       position  as  of the taking of the element set would also located directly over the\n",
    "       equator at the ascending node. If the Arg of Perigee was 0 degrees and the  MA  was\n",
    "       180  degrees then the satellite's position would have been on the other side of the\n",
    "       earth just over the equator as it was headed from north to south.\n",
    "\n",
    "53-63  Mean Motion (revolutions per day).  The mean motion of a satellite  is  simply  the\n",
    "       number  of orbits the satellite makes in one solar day (regular day, common day, 24\n",
    "       hours, 1440 minutes, 86400 seconds etc.). This number also generally indicates  the\n",
    "       orbit altitude.\n",
    "\n",
    "64-68  Revolution number at epoch (revs).  Theoretically, this number equals the number of\n",
    "       orbits the satellite  has  completed  since  it's  launch,  modulo  100,000.   Some\n",
    "       satellites  have  incorrect  epoch  orbit  numbers.   Oscar 10 is just such a case.\n",
    "       However,  this  number  is  provided  more  for  reference  purposes  than  orbital\n",
    "       calculation.  And so, its accuracy or lack thereof doesn't affect the accuracy of a\n",
    "       prediction.\n",
    "\n",
    "69-69  Check Sum (modulo 10).  As with Line 1,  this  number  is  provided  to  check  the\n",
    "       accuracy of the element set. It's calculation is described above.\n",
    "\n",
    "\n",
    "# References\n",
    "\n",
    "- Wikipedia: [Two-line element set](https://en.wikipedia.org/wiki/Two-line_element_set)\n",
    "- [celestrak.com tle format](https://celestrak.com/NORAD/documentation/tle-fmt.php)\n",
    "- [Ubuntu man pages for tle](https://manpages.ubuntu.com/manpages/precise/man5/tle.5.html)"
   ]
  },
  {
   "cell_type": "code",
   "execution_count": 1,
   "metadata": {},
   "outputs": [],
   "source": [
    "%load_ext autoreload\n",
    "%autoreload 2"
   ]
  },
  {
   "cell_type": "code",
   "execution_count": 17,
   "metadata": {},
   "outputs": [],
   "source": [
    "from doop import COE\n",
    "from doop.objects import Celestrak\n",
    "from doop.constants import Earth"
   ]
  },
  {
   "cell_type": "code",
   "execution_count": 18,
   "metadata": {},
   "outputs": [
    {
     "name": "stdout",
     "output_type": "stream",
     "text": [
      ">> Found 1153 satellites\n",
      "STARLINK-24             \n",
      "1 44238U 19029D   21072.17689862  .00005380  00000-0  29986-3 0  9994\n",
      "2 44238  52.9955  67.2379 0001012  64.3574 295.7522 15.15102985 99743\n",
      "STARLINK-26             \n",
      "1 44240U 19029F   21072.05106849  .00249124  00000-0  14290-2 0  9990\n",
      "2 44240  52.9967 306.4195 0005185 198.4651 161.6181 15.77534768101509\n",
      "STARLINK-61             \n",
      "1 44249U 19029Q   21071.35263228  .00002705  00000-0  13707-3 0  9991\n",
      "2 44249  53.0029  49.4073 0007195  99.5473 260.6335 15.20456188 99003\n",
      "STARLINK-71             \n",
      "1 44252U 19029T   21071.34847737  .00249054  00000-0  12210-1 0  9993\n",
      "2 44252  52.9989  74.0133 0000999  20.3543 339.7489 15.16519047 98631\n",
      "STARLINK-43             \n",
      "1 44257U 19029Y   21072.09846922  .00018701  00000-0  48547-3 0  9993\n",
      "2 44257  53.0022 336.4181 0002118  75.3611 284.7627 15.39034359101096\n",
      "STARLINK-64             \n",
      "1 44275U 19029AS  21072.08182659  .00010061  00000-0  22839-3 0  9999\n",
      "2 44275  52.9941 352.5996 0003150  88.4588 271.6777 15.43696258100820\n",
      "STARLINK-68             \n",
      "1 44279U 19029AW  21072.13561894  .00232029  00000-0  20501-2 0  9994\n",
      "2 44279  52.9997 347.1554 0000917  80.5921 279.5197 15.67420952100888\n",
      "STARLINK-70             \n",
      "1 44281U 19029AY  21071.86554326  .00230798  00000-0  41054-2 0  9995\n",
      "2 44281  52.9997  17.1164 0001580  53.8494 306.2658 15.48821504 31562\n",
      "STARLINK-80             \n",
      "1 44282U 19029AZ  21071.83172707  .00011592  00000-0  41141-3 0  9999\n",
      "2 44282  53.0224   8.7844 0003998   9.1108 350.9962 15.29511112100617\n",
      "STARLINK-75             \n",
      "1 44286U 19029BD  21071.93788406  .00314069  00000-0  11713-2 0  9999\n",
      "2 44286  53.0007 271.4641 0005376  73.3390 286.8223 15.86606208103021\n"
     ]
    }
   ],
   "source": [
    "ct = Celestrak()\n",
    "tles = ct.raw(\"starlink\")\n",
    "for c in tles[:10]:\n",
    "    print(c)"
   ]
  },
  {
   "cell_type": "code",
   "execution_count": 12,
   "metadata": {},
   "outputs": [
    {
     "name": "stdout",
     "output_type": "stream",
     "text": [
      "a: 6797.2km e: 0.0005 i: 51.6° RAAN: 165.7° w: 332.7° v: 228.1°\n",
      ">> Pos[km]: 6799.647326920644   Vel[km/s]: 7.655034624168856\n",
      ">> Period: 5577.1 sec  93.0 mins\n"
     ]
    }
   ],
   "source": [
    "tle = \"\"\"ISS (ZARYA)\n",
    "1 25544U 98067A   20060.61908565  .00000737  00000-0  21434-4 0  9993\n",
    "2 25544  51.6436 165.6500 0005418 332.6966 228.1099 15.49204316215186\"\"\"\n",
    "\n",
    "cc = COE.from_tle(tle)\n",
    "print(cc)\n",
    "print(f\">> Pos[km]: {cc.r}   Vel[km/s]: {cc.velocity}\")\n",
    "print(f\">> Period: {cc.period:.1f} sec  {cc.period/60:.1f} mins\")"
   ]
  },
  {
   "cell_type": "code",
   "execution_count": 14,
   "metadata": {},
   "outputs": [
    {
     "name": "stdout",
     "output_type": "stream",
     "text": [
      "a: 17464.3km e: 0.0007 i: 58.5° RAAN: 281.1° w: 276.4° v: 83.6°\n",
      ">> Radius[km]: 17462.96783470395   Speed[km/s]: 4.777781044905741\n",
      ">> Period: 22968.7 sec  382.8 mins\n"
     ]
    }
   ],
   "source": [
    "tle = \"\"\"USA 310\n",
    "1 46918U 20083A   21038.63883881 0.00000000  00000-0  00000-0 0    03\n",
    "2 46918  58.5275 281.1331 0006695 276.4323  83.5677  3.76163394    02\n",
    "\"\"\"\n",
    "\n",
    "cc = COE.from_tle(tle)\n",
    "print(cc)\n",
    "print(f\">> Radius[km]: {cc.r}   Speed[km/s]: {cc.velocity}\")\n",
    "print(f\">> Period: {cc.period:.1f} sec  {cc.period/60:.1f} mins\")"
   ]
  },
  {
   "cell_type": "code",
   "execution_count": 9,
   "metadata": {},
   "outputs": [
    {
     "data": {
      "text/plain": [
       "6.380194444444444"
      ]
     },
     "execution_count": 9,
     "metadata": {},
     "output_type": "execute_result"
    }
   ],
   "source": [
    "22968.7/3600"
   ]
  },
  {
   "cell_type": "markdown",
   "metadata": {},
   "source": [
    "https://www.n2yo.com/api/\n",
    "\n",
    "https://api.n2yo.com/rest/v1/satellite/tle/{noradID}&apiKey={apiKey}"
   ]
  },
  {
   "cell_type": "code",
   "execution_count": 25,
   "metadata": {},
   "outputs": [],
   "source": [
    "import requests\n",
    "from pprint import pprint"
   ]
  },
  {
   "cell_type": "code",
   "execution_count": 31,
   "metadata": {},
   "outputs": [],
   "source": [
    "with open(\"apikey\", \"r\") as fd:\n",
    "    key = fd.read()\n",
    "    \n",
    "# print(f\"{key}\")"
   ]
  },
  {
   "cell_type": "code",
   "execution_count": 32,
   "metadata": {},
   "outputs": [
    {
     "name": "stdout",
     "output_type": "stream",
     "text": [
      "\r\n",
      "{\"info\":{\"satid\":46918,\"satname\":\"USA 310\",\"transactionscount\":12},\"tle\":\"1 46918U 20083A   21038.63883881 0.00000000  00000-0  00000-0 0    03\\r\\n2 46918  58.5275 281.1331 0006695 276.4323  83.5677  3.76163394    02\"} \n",
      "\n",
      "{'info': {'satid': 46918, 'satname': 'USA 310', 'transactionscount': 12},\n",
      " 'tle': '1 46918U 20083A   21038.63883881 0.00000000  00000-0  00000-0 0    '\n",
      "        '03\\r\\n'\n",
      "        '2 46918  58.5275 281.1331 0006695 276.4323  83.5677  3.76163394    02'}\n"
     ]
    }
   ],
   "source": [
    "noradID = 46918\n",
    "endpt = f\"https://api.n2yo.com/rest/v1/satellite/tle/{noradID}&apiKey={key}\"\n",
    "\n",
    "resp = requests.get(endpt)\n",
    "print(resp.text,\"\\n\")\n",
    "sat = resp.json()\n",
    "pprint(sat)"
   ]
  },
  {
   "cell_type": "code",
   "execution_count": 34,
   "metadata": {},
   "outputs": [
    {
     "name": "stdout",
     "output_type": "stream",
     "text": [
      "a: 17464.3km e: 0.0007 i: 58.5° RAAN: 281.1° w: 276.4° v: 83.6°\n",
      ">> Radius[km]: 17462.968   Speed[km/s]: 4.778\n",
      ">> Period: 22968.7 sec  382.8 mins\n"
     ]
    }
   ],
   "source": [
    "cc = COE.from_tle(sat[\"tle\"])\n",
    "print(cc)\n",
    "print(f\">> Radius[km]: {cc.r:0.3f}   Speed[km/s]: {cc.velocity:0.3f}\")\n",
    "print(f\">> Period: {cc.period:.1f} sec  {cc.period/60:.1f} mins\")"
   ]
  },
  {
   "cell_type": "code",
   "execution_count": null,
   "metadata": {},
   "outputs": [],
   "source": []
  }
 ],
 "metadata": {
  "kernelspec": {
   "display_name": "Python 3",
   "language": "python",
   "name": "python3"
  },
  "language_info": {
   "codemirror_mode": {
    "name": "ipython",
    "version": 3
   },
   "file_extension": ".py",
   "mimetype": "text/x-python",
   "name": "python",
   "nbconvert_exporter": "python",
   "pygments_lexer": "ipython3",
   "version": "3.9.1"
  }
 },
 "nbformat": 4,
 "nbformat_minor": 4
}
